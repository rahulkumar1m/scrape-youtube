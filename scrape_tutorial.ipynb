{
 "cells": [
  {
   "cell_type": "markdown",
   "metadata": {},
   "source": [
    "# How to use this module:\n",
    "\n",
    "## Objectives:\n",
    "- Scrape a YouTube Channel for all the playlists in it\n",
    "- Scrape a playlist on YouTube\n",
    " - Scrape information about all the videos in this playlist\n",
    " \n",
    "### Pre-requisites:\n",
    "- YouTube V3 API Key\n",
    " - You can create a YouTube V3 API key from google cloud console for free (We can do very little with free API key but enough for this tutorial)"
   ]
  },
  {
   "cell_type": "code",
   "execution_count": 1,
   "metadata": {},
   "outputs": [],
   "source": [
    "# Importing the required libraries and modules in this GitHub repository\n",
    "import pandas as pd\n",
    "from channel_scrape import channel\n",
    "from playlist_scrape import playlist\n",
    "\n",
    "# Initialize the API Key with the one you created\n",
    "API_KEY = '[GOOGLE-API-KEY]'"
   ]
  },
  {
   "cell_type": "markdown",
   "metadata": {},
   "source": [
    "## Let's start scraping Anuv Jain's Channel\n",
    "We will scrape [Anuv Jain](https://www.youtube.com/channel/UCafUh796DToiY2U3s7X_WTw)'s YouTube Channel for playlists. But for that we need one more thing -> Channel ID\n",
    "\n",
    "Usually, Channel ID is mentioned at the end of the URL of the channel itself. In this case, it is available in the URL as shown below:\n",
    "https://www.youtube.com/channel/ **UCafUh796DToiY2U3s7X_WTw**\n",
    "\n",
    "But in case it is not in the URL, inspect the page source and search for channelID. It should be mentioned somewhere in the page source code. Just use that"
   ]
  },
  {
   "cell_type": "code",
   "execution_count": 2,
   "metadata": {},
   "outputs": [],
   "source": [
    "# Invoking channel class which initializes required process\n",
    "playlists = channel(api_key=API_KEY, channelId='UCafUh796DToiY2U3s7X_WTw')\n",
    "\n",
    "# Scrape the YouTube Channel for all the available playlists\n",
    "# This returns a lisrt of playlistIDs for all the playlists\n",
    "playlist_id_list = playlists.scrape()"
   ]
  },
  {
   "cell_type": "markdown",
   "metadata": {},
   "source": [
    "Let's print the list of playlist IDs returned by the function. Today (2021/02/18), there is only one playlist on [Anuv Jain](https://www.youtube.com/channel/UCafUh796DToiY2U3s7X_WTw)'s YouTube Channel. So, if our function works fine, it should return only 1 playlist ID"
   ]
  },
  {
   "cell_type": "code",
   "execution_count": 3,
   "metadata": {},
   "outputs": [
    {
     "name": "stdout",
     "output_type": "stream",
     "text": [
      "['PLKWDesYRFIYva0c5Ocf0kKbwRU6HKN2Dx']\n"
     ]
    }
   ],
   "source": [
    "print(playlist_id_list)"
   ]
  },
  {
   "cell_type": "markdown",
   "metadata": {},
   "source": [
    "## We nailed it! -> Onto scraping items in the playlist\n",
    "\n",
    "We'll now scrape this playlist and find out information about all the videos in it.\n",
    "\n",
    "For that we need the playlist ID which we got above. Let's use that"
   ]
  },
  {
   "cell_type": "code",
   "execution_count": 2,
   "metadata": {},
   "outputs": [],
   "source": [
    "playlist_info = playlist(api_key=API_KEY, playlist_id='PLKWDesYRFIYva0c5Ocf0kKbwRU6HKN2Dx').scrape()"
   ]
  },
  {
   "cell_type": "markdown",
   "metadata": {},
   "source": [
    "This should return a pandas dataframe with information about all the videos in this playlist. As of today (2021/02/18), there are only 10 videos in it out which two are deleted. So, we should get 8 ideos and related data.\n",
    "\n",
    "Data that is scraped:\n",
    "- tags           (tags that have been given to the video)\n",
    "- channelId      (Channel ID of the Channel which has uploaded the video)\n",
    "- channelTitle   (Title of the Channel which has uploaded the video)\n",
    "- categoryId     (YouTube has defined various categories like education; these are the codes for the same; you can look them up online)\n",
    "- title          (Title of the Video)\n",
    "- videoId        (Every Video has a unqiue Id assigned by YouTube; this represents the same)\n",
    "- viewCount      (The number of views on the Video)\n",
    "- likeCount      (Number of likes on the Video)\n",
    "- dislikeCount   (Number of dislikes on the Video)\n",
    "- commentCount   (Number of comments on the Video)\n",
    "- favoriteCount  (I don't what this is. Do let me know if you find out!)\n",
    "\n",
    "\n",
    "We can scrap quite a few more information by making changes into the modules after looking up in the [YouTube Data API](https://developers.google.com/youtube/v3/docs) for what all can be extracted."
   ]
  },
  {
   "cell_type": "code",
   "execution_count": 3,
   "metadata": {},
   "outputs": [
    {
     "data": {
      "text/html": [
       "<div>\n",
       "<style scoped>\n",
       "    .dataframe tbody tr th:only-of-type {\n",
       "        vertical-align: middle;\n",
       "    }\n",
       "\n",
       "    .dataframe tbody tr th {\n",
       "        vertical-align: top;\n",
       "    }\n",
       "\n",
       "    .dataframe thead th {\n",
       "        text-align: right;\n",
       "    }\n",
       "</style>\n",
       "<table border=\"1\" class=\"dataframe\">\n",
       "  <thead>\n",
       "    <tr style=\"text-align: right;\">\n",
       "      <th></th>\n",
       "      <th>tags</th>\n",
       "      <th>channelId</th>\n",
       "      <th>channelTitle</th>\n",
       "      <th>categoryId</th>\n",
       "      <th>title</th>\n",
       "      <th>videoId</th>\n",
       "      <th>viewCount</th>\n",
       "      <th>likeCount</th>\n",
       "      <th>dislikeCount</th>\n",
       "      <th>commentCount</th>\n",
       "      <th>favoriteCount</th>\n",
       "    </tr>\n",
       "  </thead>\n",
       "  <tbody>\n",
       "    <tr>\n",
       "      <th>0</th>\n",
       "      <td>[Tidal, Blog, Indie, Music, Wave, Of, Good, No...</td>\n",
       "      <td>UCXJU2L3HzKGOhLYEaqiqSrw</td>\n",
       "      <td>wave of good noise</td>\n",
       "      <td>10</td>\n",
       "      <td>Christian Carcamo - Closer To You</td>\n",
       "      <td>nDWvy5pT_rQ</td>\n",
       "      <td>890996</td>\n",
       "      <td>6459</td>\n",
       "      <td>67</td>\n",
       "      <td>76</td>\n",
       "      <td>0</td>\n",
       "    </tr>\n",
       "    <tr>\n",
       "      <th>1</th>\n",
       "      <td>[music, Wolf, indie, if, be, wrong, Alternativ...</td>\n",
       "      <td>UCXVyxsKXhgXvZyUJcdGS3rQ</td>\n",
       "      <td>Wolf Larsen</td>\n",
       "      <td>10</td>\n",
       "      <td>WOLF LARSEN \"If I Be Wrong\" Music Video</td>\n",
       "      <td>0USk05JUBi4</td>\n",
       "      <td>1294975</td>\n",
       "      <td>15089</td>\n",
       "      <td>205</td>\n",
       "      <td>358</td>\n",
       "      <td>0</td>\n",
       "    </tr>\n",
       "    <tr>\n",
       "      <th>2</th>\n",
       "      <td>[jackwills, cidersessions, jackwills2015, jack...</td>\n",
       "      <td>UC6O19HhN_pAxzLTGWCZtisg</td>\n",
       "      <td>MVTCHES</td>\n",
       "      <td>10</td>\n",
       "      <td>Elvis Presley - Can’t Help Falling In Love [Co...</td>\n",
       "      <td>W7lDxi-ez-s</td>\n",
       "      <td>913501</td>\n",
       "      <td>17410</td>\n",
       "      <td>304</td>\n",
       "      <td>542</td>\n",
       "      <td>0</td>\n",
       "    </tr>\n",
       "    <tr>\n",
       "      <th>3</th>\n",
       "      <td>[damien, rice, blowers, daughter, closer, nata...</td>\n",
       "      <td>UCebTyz5lDoxp9OHGmGPe4Zg</td>\n",
       "      <td>Damien Rice</td>\n",
       "      <td>10</td>\n",
       "      <td>Damien Rice - The Blower's Daughter - Official...</td>\n",
       "      <td>5YXVMCHG-Nk</td>\n",
       "      <td>73252509</td>\n",
       "      <td>391641</td>\n",
       "      <td>9423</td>\n",
       "      <td>16763</td>\n",
       "      <td>0</td>\n",
       "    </tr>\n",
       "    <tr>\n",
       "      <th>4</th>\n",
       "      <td>[damien, rice, crimes]</td>\n",
       "      <td>UCebTyz5lDoxp9OHGmGPe4Zg</td>\n",
       "      <td>Damien Rice</td>\n",
       "      <td>10</td>\n",
       "      <td>Damien Rice - 9 Crimes - Official Video</td>\n",
       "      <td>cgqOSCgc8xc</td>\n",
       "      <td>39858422</td>\n",
       "      <td>241830</td>\n",
       "      <td>4488</td>\n",
       "      <td>10258</td>\n",
       "      <td>0</td>\n",
       "    </tr>\n",
       "    <tr>\n",
       "      <th>5</th>\n",
       "      <td>[elvis presley, elvis presley cant help fallin...</td>\n",
       "      <td>UCSEmH1YyFWltSBYkfLMtkcg</td>\n",
       "      <td>ElvisPresleyVEVO</td>\n",
       "      <td>10</td>\n",
       "      <td>Elvis Presley - Can't Help Falling In Love (Au...</td>\n",
       "      <td>vGJTaP6anOU</td>\n",
       "      <td>266104835</td>\n",
       "      <td>2445978</td>\n",
       "      <td>41334</td>\n",
       "      <td>85470</td>\n",
       "      <td>0</td>\n",
       "    </tr>\n",
       "    <tr>\n",
       "      <th>6</th>\n",
       "      <td>[Atlas, Year One, Sharon Gerber, Tom Shea, Mic...</td>\n",
       "      <td>UCvUYLLON82Gx6MW62xTLVLQ</td>\n",
       "      <td>Sleeping At Last</td>\n",
       "      <td>10</td>\n",
       "      <td>Sleeping At Last - \"Saturn\" (Official Music Vi...</td>\n",
       "      <td>dzNvk80XY9s</td>\n",
       "      <td>55393606</td>\n",
       "      <td>770606</td>\n",
       "      <td>6802</td>\n",
       "      <td>22802</td>\n",
       "      <td>0</td>\n",
       "    </tr>\n",
       "    <tr>\n",
       "      <th>7</th>\n",
       "      <td>[iPhone 11 Pro, iPhone 11, iPhone 11 pro revie...</td>\n",
       "      <td>UCBJycsmduvYEL83R_U4JriQ</td>\n",
       "      <td>Marques Brownlee</td>\n",
       "      <td>28</td>\n",
       "      <td>iPhone 11 Pro Review: For the Love of Cameras!</td>\n",
       "      <td>DyX-QZZBgpw</td>\n",
       "      <td>8265096</td>\n",
       "      <td>179476</td>\n",
       "      <td>6506</td>\n",
       "      <td>16546</td>\n",
       "      <td>0</td>\n",
       "    </tr>\n",
       "  </tbody>\n",
       "</table>\n",
       "</div>"
      ],
      "text/plain": [
       "                                                tags  \\\n",
       "0  [Tidal, Blog, Indie, Music, Wave, Of, Good, No...   \n",
       "1  [music, Wolf, indie, if, be, wrong, Alternativ...   \n",
       "2  [jackwills, cidersessions, jackwills2015, jack...   \n",
       "3  [damien, rice, blowers, daughter, closer, nata...   \n",
       "4                             [damien, rice, crimes]   \n",
       "5  [elvis presley, elvis presley cant help fallin...   \n",
       "6  [Atlas, Year One, Sharon Gerber, Tom Shea, Mic...   \n",
       "7  [iPhone 11 Pro, iPhone 11, iPhone 11 pro revie...   \n",
       "\n",
       "                  channelId        channelTitle categoryId  \\\n",
       "0  UCXJU2L3HzKGOhLYEaqiqSrw  wave of good noise         10   \n",
       "1  UCXVyxsKXhgXvZyUJcdGS3rQ         Wolf Larsen         10   \n",
       "2  UC6O19HhN_pAxzLTGWCZtisg             MVTCHES         10   \n",
       "3  UCebTyz5lDoxp9OHGmGPe4Zg         Damien Rice         10   \n",
       "4  UCebTyz5lDoxp9OHGmGPe4Zg         Damien Rice         10   \n",
       "5  UCSEmH1YyFWltSBYkfLMtkcg    ElvisPresleyVEVO         10   \n",
       "6  UCvUYLLON82Gx6MW62xTLVLQ    Sleeping At Last         10   \n",
       "7  UCBJycsmduvYEL83R_U4JriQ    Marques Brownlee         28   \n",
       "\n",
       "                                               title      videoId  viewCount  \\\n",
       "0                  Christian Carcamo - Closer To You  nDWvy5pT_rQ     890996   \n",
       "1            WOLF LARSEN \"If I Be Wrong\" Music Video  0USk05JUBi4    1294975   \n",
       "2  Elvis Presley - Can’t Help Falling In Love [Co...  W7lDxi-ez-s     913501   \n",
       "3  Damien Rice - The Blower's Daughter - Official...  5YXVMCHG-Nk   73252509   \n",
       "4            Damien Rice - 9 Crimes - Official Video  cgqOSCgc8xc   39858422   \n",
       "5  Elvis Presley - Can't Help Falling In Love (Au...  vGJTaP6anOU  266104835   \n",
       "6  Sleeping At Last - \"Saturn\" (Official Music Vi...  dzNvk80XY9s   55393606   \n",
       "7     iPhone 11 Pro Review: For the Love of Cameras!  DyX-QZZBgpw    8265096   \n",
       "\n",
       "  likeCount dislikeCount commentCount favoriteCount  \n",
       "0      6459           67           76             0  \n",
       "1     15089          205          358             0  \n",
       "2     17410          304          542             0  \n",
       "3    391641         9423        16763             0  \n",
       "4    241830         4488        10258             0  \n",
       "5   2445978        41334        85470             0  \n",
       "6    770606         6802        22802             0  \n",
       "7    179476         6506        16546             0  "
      ]
     },
     "execution_count": 3,
     "metadata": {},
     "output_type": "execute_result"
    }
   ],
   "source": [
    "playlist_info"
   ]
  },
  {
   "cell_type": "markdown",
   "metadata": {},
   "source": [
    "So, we have been succesfull in extracting data on all the 8/10 available videos on the only playlist in Anuv Jain's Channel."
   ]
  }
 ],
 "metadata": {
  "kernelspec": {
   "display_name": "Python 3",
   "language": "python",
   "name": "python3"
  },
  "language_info": {
   "codemirror_mode": {
    "name": "ipython",
    "version": 3
   },
   "file_extension": ".py",
   "mimetype": "text/x-python",
   "name": "python",
   "nbconvert_exporter": "python",
   "pygments_lexer": "ipython3",
   "version": "3.8.5"
  }
 },
 "nbformat": 4,
 "nbformat_minor": 4
}
